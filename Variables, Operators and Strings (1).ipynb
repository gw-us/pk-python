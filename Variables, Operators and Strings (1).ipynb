{
  "cells": [
    {
      "metadata": {
        "collapsed": true
      },
      "cell_type": "markdown",
      "source": "## Zad. 1\nPod zmienną ``` a1 ``` podstawić pierwiastek kwadratowy z liczby 2 podniesionej do potęgi 8"
    },
    {
      "metadata": {
        "trusted": true
      },
      "cell_type": "code",
      "source": "",
      "execution_count": 1,
      "outputs": []
    },
    {
      "metadata": {
        "trusted": true
      },
      "cell_type": "code",
      "source": "a1",
      "execution_count": 2,
      "outputs": [
        {
          "output_type": "execute_result",
          "execution_count": 2,
          "data": {
            "text/plain": "16.0"
          },
          "metadata": {}
        }
      ]
    },
    {
      "metadata": {},
      "cell_type": "markdown",
      "source": "## Zad. 2\nPod zmienną ``` a2 ``` podstawić powielony 20 razy tekst '10'"
    },
    {
      "metadata": {
        "trusted": true
      },
      "cell_type": "code",
      "source": "",
      "execution_count": 3,
      "outputs": []
    },
    {
      "metadata": {
        "trusted": true
      },
      "cell_type": "code",
      "source": "a2",
      "execution_count": 4,
      "outputs": [
        {
          "output_type": "execute_result",
          "execution_count": 4,
          "data": {
            "text/plain": "'1010101010101010101010101010101010101010'"
          },
          "metadata": {}
        }
      ]
    },
    {
      "metadata": {},
      "cell_type": "markdown",
      "source": "## Zad. 3\nPod zmienną ``` a3 ``` wyświetlić resztę dzielenia liczby 10 przez 5"
    },
    {
      "metadata": {
        "trusted": true
      },
      "cell_type": "code",
      "source": "",
      "execution_count": 5,
      "outputs": []
    },
    {
      "metadata": {
        "trusted": true
      },
      "cell_type": "code",
      "source": "a3",
      "execution_count": 6,
      "outputs": [
        {
          "output_type": "execute_result",
          "execution_count": 6,
          "data": {
            "text/plain": "0"
          },
          "metadata": {}
        }
      ]
    },
    {
      "metadata": {},
      "cell_type": "markdown",
      "source": "## Zad. 4\nWykorzystując podstawowe operatory matematyczne pod zmienną ``` a4 ``` podstawić wartość wyrażenia korzystając z cyfr 2, 4, 0 tak, aby przyjęło wartość 1\n\n_Każdą z cyfr można użyć tylko raz_"
    },
    {
      "metadata": {
        "trusted": true
      },
      "cell_type": "code",
      "source": "",
      "execution_count": 7,
      "outputs": []
    },
    {
      "metadata": {
        "trusted": true
      },
      "cell_type": "code",
      "source": "a4",
      "execution_count": 8,
      "outputs": [
        {
          "output_type": "execute_result",
          "execution_count": 8,
          "data": {
            "text/plain": "1"
          },
          "metadata": {}
        }
      ]
    },
    {
      "metadata": {},
      "cell_type": "markdown",
      "source": "## Zad. 5\nZwiększyć wartość zmiennej ``` a4 ``` (_obliczonej w poprzednim zadaniu_) o 1 korzystając z wyrażenia, ale bez użycia operatora dodawania po znaku ``` = ```"
    },
    {
      "metadata": {
        "trusted": true
      },
      "cell_type": "code",
      "source": "",
      "execution_count": 9,
      "outputs": []
    },
    {
      "metadata": {
        "trusted": true
      },
      "cell_type": "code",
      "source": "a4",
      "execution_count": 10,
      "outputs": [
        {
          "output_type": "execute_result",
          "execution_count": 10,
          "data": {
            "text/plain": "2"
          },
          "metadata": {}
        }
      ]
    },
    {
      "metadata": {},
      "cell_type": "markdown",
      "source": "## Zad. 6\nDodać poniżej komórkę zadeklarować w niej i zaproponować nazwy dla zmiennych, które pozwolą na obliczenie podatku VAT na podstawie ceny netto oraz stawki podatku VAT"
    },
    {
      "metadata": {},
      "cell_type": "markdown",
      "source": "## Zad. 7\nDodać poniżej komórkę i wprowadzić w niej zmienną kwota_vat i podstawić formułę, która obliczy kwotę VAT dla podanych powyżej zmiennych"
    },
    {
      "metadata": {},
      "cell_type": "markdown",
      "source": "## Zad. 8\nDodać poniżej komórkę i zadeklarować w niej zmienną ``` a8 ``` a następnie przemnożyć ją o wartość w niej zapisaną"
    },
    {
      "metadata": {},
      "cell_type": "markdown",
      "source": "## Zad. 9\nZadeklarować zmienną ```a9 = 'To jest tekst, który będzie przetwarzany' ``` a wyświetlić z ilu znaków się składa"
    },
    {
      "metadata": {
        "trusted": true
      },
      "cell_type": "code",
      "source": "",
      "execution_count": 11,
      "outputs": [
        {
          "output_type": "execute_result",
          "execution_count": 11,
          "data": {
            "text/plain": "40"
          },
          "metadata": {}
        }
      ]
    },
    {
      "metadata": {},
      "cell_type": "markdown",
      "source": "## Zad. 10\nWykorzystując zmienną ```a9``` wyświetlić:\n- tekst ze zmiennej  od wyrazu 'który'\n- tekst 10 ostatnich znaków pisanych wspak\n- "
    },
    {
      "metadata": {
        "trusted": true
      },
      "cell_type": "code",
      "source": "",
      "execution_count": 12,
      "outputs": [
        {
          "output_type": "execute_result",
          "execution_count": 12,
          "data": {
            "text/plain": "('który będzie przetwarzany', 'ynazrawte')"
          },
          "metadata": {}
        }
      ]
    },
    {
      "metadata": {},
      "cell_type": "markdown",
      "source": "## Zad. 11\nPrzy użyciu funkcji ``` format ``` Wprowadzić zmienną ``` a11 ``` pod którą zostanie podstawion tekst 'Ala ma ...' a w miejsce gdzie są trzy kropki zostanie wstawiony tekst zapisany w zmiennej:\n\n``` a11_wstaw = 'kota'```"
    },
    {
      "metadata": {
        "trusted": true
      },
      "cell_type": "code",
      "source": "",
      "execution_count": 13,
      "outputs": []
    },
    {
      "metadata": {
        "trusted": true
      },
      "cell_type": "code",
      "source": "a11",
      "execution_count": 14,
      "outputs": [
        {
          "output_type": "execute_result",
          "execution_count": 14,
          "data": {
            "text/plain": "'Ala ma kota'"
          },
          "metadata": {}
        }
      ]
    },
    {
      "metadata": {},
      "cell_type": "markdown",
      "source": "## Zad. 12\nWprowadzić zmienne \n\n```nazwa_1 = 'jabłko'\nliczba_1 = 3.4 \nnazwa_2 = 'gruszka'\nliczba_2 = 5.6```\n\ni wykorzystująć funkcję ```print``` \nwyświetlić tabelę zgodnie z efektem poniżej (_szerokość tabeli to 30 znaków_) bez użycia spacji oraz wielokrotnego wpisywania tego samego znaku (np: _'--'_ jest niedozwolone)"
    },
    {
      "metadata": {
        "trusted": true
      },
      "cell_type": "code",
      "source": "",
      "execution_count": 15,
      "outputs": [
        {
          "output_type": "stream",
          "text": "------------------------------\n|   jabłko    |          3.40|\n------------------------------\n|   gruszka   |          5.60|\n------------------------------\n",
          "name": "stdout"
        }
      ]
    },
    {
      "metadata": {
        "trusted": true
      },
      "cell_type": "code",
      "source": "",
      "execution_count": null,
      "outputs": []
    }
  ],
  "metadata": {
    "kernelspec": {
      "name": "python36",
      "display_name": "Python 3.6",
      "language": "python"
    },
    "language_info": {
      "mimetype": "text/x-python",
      "nbconvert_exporter": "python",
      "name": "python",
      "pygments_lexer": "ipython3",
      "version": "3.6.6",
      "file_extension": ".py",
      "codemirror_mode": {
        "version": 3,
        "name": "ipython"
      }
    }
  },
  "nbformat": 4,
  "nbformat_minor": 2
}